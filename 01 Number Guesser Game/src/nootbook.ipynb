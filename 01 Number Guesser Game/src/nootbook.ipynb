{
 "cells": [
  {
   "cell_type": "code",
   "execution_count": 1,
   "id": "8fb74ea2",
   "metadata": {},
   "outputs": [],
   "source": [
    "import random"
   ]
  },
  {
   "cell_type": "code",
   "execution_count": 5,
   "id": "a3fd6e9b",
   "metadata": {},
   "outputs": [],
   "source": [
    "rand_num = random.randint(1, 100)"
   ]
  },
  {
   "cell_type": "code",
   "execution_count": 6,
   "id": "c63c4c3a",
   "metadata": {},
   "outputs": [
    {
     "data": {
      "text/plain": [
       "70"
      ]
     },
     "execution_count": 6,
     "metadata": {},
     "output_type": "execute_result"
    }
   ],
   "source": [
    "rand_num"
   ]
  },
  {
   "cell_type": "code",
   "execution_count": 9,
   "id": "66f55d59",
   "metadata": {},
   "outputs": [],
   "source": [
    "user_guess = input(\"Guess a number between 1 and 100: \")"
   ]
  },
  {
   "cell_type": "code",
   "execution_count": 10,
   "id": "48a36a9d",
   "metadata": {},
   "outputs": [
    {
     "data": {
      "text/plain": [
       "'10'"
      ]
     },
     "execution_count": 10,
     "metadata": {},
     "output_type": "execute_result"
    }
   ],
   "source": [
    "user_guess"
   ]
  },
  {
   "cell_type": "code",
   "execution_count": 16,
   "id": "2d190fb1",
   "metadata": {},
   "outputs": [],
   "source": [
    "def validate_input(user_guess):\n",
    "    if not user_guess.isdigit():\n",
    "        print(\"Invalid input. Please try again.\")\n",
    "        return False\n",
    "\n",
    "    user_guess = int(user_guess)\n",
    "    if user_guess > 100 or user_guess < 1:\n",
    "        print(\"Your guess is out of range. Please try again. Your guess should be between 1 and 100.\")\n",
    "        return False\n",
    "\n",
    "    return True"
   ]
  },
  {
   "cell_type": "code",
   "execution_count": 18,
   "id": "d5e9100e",
   "metadata": {},
   "outputs": [
    {
     "name": "stdout",
     "output_type": "stream",
     "text": [
      "Your guess is too low. Please try again.\n",
      "Your guess is too low. Please try again.\n",
      "Your guess is too high. Please try again.\n",
      "Your guess is too high. Please try again.\n",
      "Your guess is too low. Please try again.\n",
      "Your guess is too low. Please try again.\n",
      "Your guess is too high. Please try again.\n",
      "Your guess is too low. Please try again.\n",
      "Your guess is too low. Please try again.\n",
      "Your guess is too low. Please try again.\n",
      "Your guess is too low. Please try again.\n",
      "Your guess is too low. Please try again.\n",
      "Your guess is too low. Please try again.\n",
      "Your guess is too low. Please try again.\n",
      "Congratulations! You guessed the correct number!\n",
      "Your score is 0.\n"
     ]
    }
   ],
   "source": [
    "score = 100\n",
    "\n",
    "while True:\n",
    "    user_guess = input(\"Guess a number between 1 and 100: \")\n",
    "    if user_guess == 'q':\n",
    "        break\n",
    "\n",
    "    if not validate_input(user_guess):\n",
    "        continue\n",
    "\n",
    "    user_guess = int(user_guess)\n",
    "    if rand_num > user_guess:\n",
    "        print(\"Your guess is too low. Please try again.\")\n",
    "    elif rand_num < user_guess:\n",
    "        print(\"Your guess is too high. Please try again.\")\n",
    "    else:\n",
    "        print(\"Congratulations! You guessed the correct number!\")\n",
    "        print(f\"Your score is {score}.\")\n",
    "        break\n",
    "\n",
    "    score -= 10\n",
    "    score = max(score, 0)"
   ]
  },
  {
   "cell_type": "code",
   "execution_count": null,
   "id": "2bfe9c5a",
   "metadata": {},
   "outputs": [],
   "source": []
  }
 ],
 "metadata": {
  "kernelspec": {
   "display_name": ".pytopia_env",
   "language": "python",
   "name": "python3"
  },
  "language_info": {
   "codemirror_mode": {
    "name": "ipython",
    "version": 3
   },
   "file_extension": ".py",
   "mimetype": "text/x-python",
   "name": "python",
   "nbconvert_exporter": "python",
   "pygments_lexer": "ipython3",
   "version": "3.12.11"
  }
 },
 "nbformat": 4,
 "nbformat_minor": 5
}
